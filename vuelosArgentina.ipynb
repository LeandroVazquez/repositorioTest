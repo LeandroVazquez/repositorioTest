import numpy as np
import pandas as pd
import matplotlib.pyplot as plt
%matplotlib inline

vuelosArgentina=pd.read_excel("202110-informe-ministerio.xlsx")
#vuelosArgentina

